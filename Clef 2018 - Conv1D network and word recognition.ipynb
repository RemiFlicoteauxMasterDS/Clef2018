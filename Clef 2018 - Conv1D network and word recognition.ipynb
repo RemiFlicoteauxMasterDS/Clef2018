{
 "cells": [
  {
   "cell_type": "markdown",
   "metadata": {},
   "source": [
    "## CIM 10 classifier for Clef 2018 eHealth Task 1\n",
    "Analysis of French biomedical text with the extraction of causes of death from a corpus of death reports in French \n",
    "\n",
    "Task description : [CLEF 2018 eHealth 2018](https://sites.google.com/view/clef-ehealth-2018/task-1-multilingual-information-extraction-icd10-coding?authuser=0)"
   ]
  },
  {
   "cell_type": "code",
   "execution_count": 7,
   "metadata": {},
   "outputs": [],
   "source": [
    "import matplotlib.pyplot as plt\n",
    "%matplotlib inline  \n",
    "import numpy as np\n",
    "import os\n",
    "import keras\n",
    "import re\n",
    "import pandas as pd\n",
    "from sklearn.model_selection import train_test_split\n",
    "from collections import Counter\n",
    "import csv"
   ]
  },
  {
   "cell_type": "code",
   "execution_count": 8,
   "metadata": {},
   "outputs": [
    {
     "name": "stdout",
     "output_type": "stream",
     "text": [
      "The autoreload extension is already loaded. To reload it, use:\n",
      "  %reload_ext autoreload\n"
     ]
    }
   ],
   "source": [
    "%load_ext autoreload\n",
    "%autoreload 2\n",
    "\n",
    "rev_vocabulary = ['_PAD']"
   ]
  },
  {
   "cell_type": "markdown",
   "metadata": {},
   "source": [
    "## Preprocessing texts\n",
    "\n",
    "\n",
    "A dictionarie (thesaurus) has been made from avaliable corpus (cf notebook Dictionaries) : ICD 10 index, Snomed CT French version, Orphanet, CépiDC dictionnaries.\n",
    "\n",
    "Text preprocessing is mainly using this thesaurus to deal with :\n",
    "- correction of spelling errors\n",
    "- compound words\n",
    "- tokenization\n",
    "\n",
    "Training texts has been prepared previously (see notebook Preprocessing clef texts)\n",
    "\n",
    "ICD code reference is as sugested in the task description was taken from :\n",
    "https://www.bfs.admin.ch/bfs/fr/home/statistiques/sante/nomenclatures/medkk/instruments-codage-medical.html#par_headline_782102000\n",
    " "
   ]
  },
  {
   "cell_type": "code",
   "execution_count": 144,
   "metadata": {
    "collapsed": true
   },
   "outputs": [],
   "source": [
    "from utils_ import *\n",
    "from FeatureExtractor import *\n",
    "fe=FeatureExtractor()\n",
    "tp=fe.text_preprocessing"
   ]
  },
  {
   "cell_type": "code",
   "execution_count": 145,
   "metadata": {
    "collapsed": true
   },
   "outputs": [],
   "source": [
    "###CIM\n",
    "\n",
    "codes=[]\n",
    "\n",
    "with open('dictionaries/LIBCIM10MULTI.TXT', 'r', encoding=\"latin1\") as f:\n",
    "        \n",
    "        next(f)\n",
    "        \n",
    "        for line in f:\n",
    "            line_=line.split('|')\n",
    "            c=line_[0].replace(' ','')\n",
    "            type_=line_[1]\n",
    "            if type_!='3':\n",
    "                codes.append(c)\n",
    "\n",
    "\n",
    "#icd=['UNK']+codes\n",
    "icd=codes"
   ]
  },
  {
   "cell_type": "code",
   "execution_count": 146,
   "metadata": {},
   "outputs": [
    {
     "data": {
      "text/plain": [
       "38179"
      ]
     },
     "execution_count": 146,
     "metadata": {},
     "output_type": "execute_result"
    }
   ],
   "source": [
    "len(icd)"
   ]
  },
  {
   "cell_type": "markdown",
   "metadata": {},
   "source": [
    "Import of reference vocabularies and preparation index that will be use for word/ICD code index."
   ]
  },
  {
   "cell_type": "code",
   "execution_count": 147,
   "metadata": {},
   "outputs": [],
   "source": [
    "th_base_sentences=[]\n",
    "th_codes=[]\n",
    "th_source=[]\n",
    "index=[]\n",
    "c_index=[]\n",
    "with open('dictionaries/clef2018_thesaurus.csv', 'r', encoding=\"utf-8\") as f:\n",
    "    for line in f:\n",
    "        line_=line.split(';')\n",
    "        \n",
    "        c=line_[1]\n",
    "        o=line_[2].replace('\\n','')\n",
    "        if len(c)>0 :# and o in ['index CIM','Snomed','Orphanet','CIM']:\n",
    "            c_=re.split(',',c)\n",
    "            for co in c_:\n",
    "                if co in icd:\n",
    "                    index.append(line_[0])\n",
    "                    c_index.append(co)\n",
    "            th_codes.append(c_)\n",
    "            th_source.append(line_[2])  \n",
    "            th_base_sentences.append(line_[0])"
   ]
  },
  {
   "cell_type": "markdown",
   "metadata": {},
   "source": [
    "### Build vocabulary and prepare feature extraction\n",
    "FeatureExtraction class is fitted on the knowledge base and will use this vocabulary to produce words vectors for each sentence in the corpus that will be use for classification"
   ]
  },
  {
   "cell_type": "code",
   "execution_count": 148,
   "metadata": {
    "collapsed": true
   },
   "outputs": [],
   "source": [
    "fe.fit(th_base_sentences,START_VOCAB=['_PAD'])"
   ]
  },
  {
   "cell_type": "markdown",
   "metadata": {},
   "source": [
    "### Load data that have been prepared"
   ]
  },
  {
   "cell_type": "code",
   "execution_count": 14,
   "metadata": {
    "collapsed": true
   },
   "outputs": [],
   "source": [
    "prep_sentences=[]\n",
    "prep_codes=[]\n",
    "\n",
    "with open('corpus/clef2018_FinalTrain.csv', 'r', encoding=\"utf-8\") as f:\n",
    "    for line in f:\n",
    "        if len(line)>3:\n",
    "            line_=line.split(';')\n",
    "            s=re.split(r'\\s', line_[0].replace('\\n',''))\n",
    "            s=[w for w in s if w in fe.dictionary]\n",
    "            prep_sentences.append(s)\n",
    "            c=re.split(r'\\s',line_[1].replace('\\n',''))\n",
    "            if len(c[0])==0:\n",
    "                c=[]\n",
    "            prep_codes.append(c)\n",
    "            id_=line_[2].replace('\\n','')\n"
   ]
  },
  {
   "cell_type": "code",
   "execution_count": 15,
   "metadata": {
    "collapsed": true
   },
   "outputs": [],
   "source": [
    "all_codes=[c_ for c in prep_codes for c_ in c]"
   ]
  },
  {
   "cell_type": "code",
   "execution_count": 16,
   "metadata": {},
   "outputs": [
    {
     "name": "stdout",
     "output_type": "stream",
     "text": [
      "Total number of documents = 304021\n",
      "Total number of codes = 379802\n"
     ]
    }
   ],
   "source": [
    "print('Total number of documents = '+str(len(prep_sentences)))\n",
    "print('Total number of codes = '+str(len(all_codes)))"
   ]
  },
  {
   "cell_type": "markdown",
   "metadata": {},
   "source": [
    "## Description of the data"
   ]
  },
  {
   "cell_type": "markdown",
   "metadata": {},
   "source": [
    "### Distribtion of the ICD codes"
   ]
  },
  {
   "cell_type": "code",
   "execution_count": 17,
   "metadata": {
    "collapsed": true
   },
   "outputs": [],
   "source": [
    "counter_all_codes = Counter(all_codes)"
   ]
  },
  {
   "cell_type": "code",
   "execution_count": 18,
   "metadata": {},
   "outputs": [
    {
     "data": {
      "text/plain": [
       "3259"
      ]
     },
     "execution_count": 18,
     "metadata": {},
     "output_type": "execute_result"
    }
   ],
   "source": [
    "len(counter_all_codes)"
   ]
  },
  {
   "cell_type": "code",
   "execution_count": 19,
   "metadata": {
    "collapsed": true
   },
   "outputs": [],
   "source": [
    "n_total_codes=sum(counter_all_codes.values())\n",
    "n_total_distinct_codes=len(counter_all_codes)\n",
    "n_1000_distinct=len([n for n in counter_all_codes.values() if n>=1000])\n",
    "n_1000_total=sum([n for n in counter_all_codes.values() if n>=1000])\n",
    "n_200_1000_distinct=len([n for n in counter_all_codes.values() if n>=200 and n<1000])\n",
    "n_200_1000_total=sum([n for n in counter_all_codes.values() if n>=200 and n<1000])\n",
    "n_200_distinct=len([n for n in counter_all_codes.values() if n<200])\n",
    "n_200_total=sum([n for n in counter_all_codes.values() if n<200])"
   ]
  },
  {
   "cell_type": "code",
   "execution_count": 20,
   "metadata": {},
   "outputs": [
    {
     "name": "stdout",
     "output_type": "stream",
     "text": [
      "Number of distinct codes = 3259\n",
      "\n",
      "Nb of distinct codes > 1000 occurences = 72 - total of occurences = 240301 (63.3%)  \n",
      "Nb of distinct codes 200-1000 occurences = 180 - total of occurences = 80316 (21.1%)  \n",
      "Nb of distinct codes <200 occurences = 3007 - total of occurences = 59185 (15.6%)\n"
     ]
    }
   ],
   "source": [
    "print('Number of distinct codes = '+str(n_total_distinct_codes)+'\\n'+\n",
    "    '\\nNb of distinct codes > 1000 occurences = '+str(n_1000_distinct)\n",
    "      +' - total of occurences = '+str(n_1000_total)+' ('+str(round(n_1000_total*100/n_total_codes,1))+'%)'\n",
    "      '  \\nNb of distinct codes 200-1000 occurences = '+str(n_200_1000_distinct)\n",
    "      +' - total of occurences = '+str(n_200_1000_total)+' ('+str(round(n_200_1000_total*100/n_total_codes,1))+'%)'\n",
    "     +'  \\nNb of distinct codes <200 occurences = ' +str(n_200_distinct)\n",
    "      +' - total of occurences = '+str(n_200_total)+' ('+str(round(n_200_total*100/n_total_codes,1))+'%)' \n",
    "     )"
   ]
  },
  {
   "cell_type": "code",
   "execution_count": 21,
   "metadata": {},
   "outputs": [
    {
     "data": {
      "image/png": "[encoded data removed]",
      "text/plain": [
       "<matplotlib.figure.Figure at 0x7ff3b81d65c0>"
      ]
     },
     "metadata": {},
     "output_type": "display_data"
    }
   ],
   "source": [
    "codes_, counts = zip(*counter_all_codes.items())\n",
    "indices = np.arange(len(counts))\n",
    "\n",
    "plt.figure(figsize=(14, 3))\n",
    "plt.bar(sorted(indices), counts, 0.8)\n",
    "plt.xticks(indices, codes_);"
   ]
  },
  {
   "cell_type": "markdown",
   "metadata": {},
   "source": [
    "## Prepare test and train set"
   ]
  },
  {
   "cell_type": "markdown",
   "metadata": {},
   "source": [
    "### Build new preprocessing classification instance \n",
    "Classification class will manage production of one hot vectors for classification"
   ]
  },
  {
   "cell_type": "code",
   "execution_count": 22,
   "metadata": {
    "collapsed": true
   },
   "outputs": [],
   "source": [
    "from Classification import *\n",
    "classif_icd=ClassificationPreprocessing()\n",
    "classif_icd.fit(prep_codes)"
   ]
  },
  {
   "cell_type": "code",
   "execution_count": 23,
   "metadata": {},
   "outputs": [
    {
     "data": {
      "text/plain": [
       "array(['A010', 'A021', 'A029', ..., 'Z993', 'Z998', 'Z999'], dtype=object)"
      ]
     },
     "execution_count": 23,
     "metadata": {},
     "output_type": "execute_result"
    }
   ],
   "source": [
    "classif_icd.encoder.classes_"
   ]
  },
  {
   "cell_type": "code",
   "execution_count": 24,
   "metadata": {
    "collapsed": true
   },
   "outputs": [],
   "source": [
    "from sklearn.model_selection import train_test_split\n",
    "y_train, y_test, x_train, x_test = train_test_split(\n",
    "    prep_codes, prep_sentences,test_size=25000, random_state=0)"
   ]
  },
  {
   "cell_type": "markdown",
   "metadata": {},
   "source": [
    "\n",
    "#### Add the thesaurus sentences for learning"
   ]
  },
  {
   "cell_type": "code",
   "execution_count": 25,
   "metadata": {
    "collapsed": true
   },
   "outputs": [],
   "source": [
    "th_codes_=[]\n",
    "th_base_sentences_=[]\n",
    "for c,s in zip(th_codes,th_base_sentences):\n",
    "    take=True\n",
    "    for c_ in c:\n",
    "        if c_ not in classif_icd.encoder.classes_:\n",
    "            take=False\n",
    "    if take:\n",
    "        th_codes_.append(c)\n",
    "        th_base_sentences_.append(tp.tokenizer(s))\n",
    "            "
   ]
  },
  {
   "cell_type": "code",
   "execution_count": 26,
   "metadata": {
    "collapsed": true
   },
   "outputs": [],
   "source": [
    "x_train_=x_train+th_base_sentences_\n",
    "y_train_=y_train+th_codes_"
   ]
  },
  {
   "cell_type": "markdown",
   "metadata": {
    "collapsed": true
   },
   "source": [
    "#### Vectorization of text and Onehot encoded target with new classification"
   ]
  },
  {
   "cell_type": "code",
   "execution_count": 161,
   "metadata": {},
   "outputs": [
    {
     "name": "stdout",
     "output_type": "stream",
     "text": [
      "x_train shape= (399412, 40)\n",
      "x_test shape= (25000, 40)\n",
      "y_train shape= (399412, 3259)\n",
      "y_test shape= (25000, 3259)\n"
     ]
    }
   ],
   "source": [
    "MAX_SEQUENCE_LENGTH=40\n",
    "\n",
    "x_train_def=fe.features_from_tokens(x_train_,MAX_SEQUENCE_LENGTH)\n",
    "x_test_def=fe.features_from_tokens(x_test,MAX_SEQUENCE_LENGTH)\n",
    "\n",
    "print('x_train shape=',str(x_train_def.shape))\n",
    "print('x_test shape=',str(x_test_def.shape))\n",
    "\n",
    "y_train_def=classif_icd.encoder.transform(y_train_)\n",
    "y_test_def=classif_icd.encoder.transform(y_test)\n",
    "\n",
    "print('y_train shape=',str(y_train_def.shape))\n",
    "print('y_test shape=',str(y_test_def.shape))"
   ]
  },
  {
   "cell_type": "code",
   "execution_count": 28,
   "metadata": {},
   "outputs": [
    {
     "data": {
      "text/plain": [
       "6955"
      ]
     },
     "execution_count": 28,
     "metadata": {},
     "output_type": "execute_result"
    }
   ],
   "source": [
    "##Empty target\n",
    "len([c for c in y_train_def if np.sum(c)==0])"
   ]
  },
  {
   "cell_type": "markdown",
   "metadata": {},
   "source": [
    "## Conv1D RNN with embeddings"
   ]
  },
  {
   "cell_type": "code",
   "execution_count": 30,
   "metadata": {},
   "outputs": [
    {
     "name": "stdout",
     "output_type": "stream",
     "text": [
      "__________________________________________________________________________________________________\n",
      "Layer (type)                    Output Shape         Param #     Connected to                     \n",
      "==================================================================================================\n",
      "input_1 (InputLayer)            (None, 40)           0                                            \n",
      "__________________________________________________________________________________________________\n",
      "embedding_1 (Embedding)         (None, 40, 512)      10038272    input_1[0][0]                    \n",
      "__________________________________________________________________________________________________\n",
      "conv1d_1 (Conv1D)               (None, 36, 128)      327808      embedding_1[0][0]                \n",
      "__________________________________________________________________________________________________\n",
      "conv1d_3 (Conv1D)               (None, 34, 128)      458880      embedding_1[0][0]                \n",
      "__________________________________________________________________________________________________\n",
      "conv1d_5 (Conv1D)               (None, 32, 128)      589952      embedding_1[0][0]                \n",
      "__________________________________________________________________________________________________\n",
      "max_pooling1d_1 (MaxPooling1D)  (None, 12, 128)      0           conv1d_1[0][0]                   \n",
      "__________________________________________________________________________________________________\n",
      "max_pooling1d_2 (MaxPooling1D)  (None, 11, 128)      0           conv1d_3[0][0]                   \n",
      "__________________________________________________________________________________________________\n",
      "max_pooling1d_3 (MaxPooling1D)  (None, 10, 128)      0           conv1d_5[0][0]                   \n",
      "__________________________________________________________________________________________________\n",
      "dropout_1 (Dropout)             (None, 12, 128)      0           max_pooling1d_1[0][0]            \n",
      "__________________________________________________________________________________________________\n",
      "dropout_3 (Dropout)             (None, 11, 128)      0           max_pooling1d_2[0][0]            \n",
      "__________________________________________________________________________________________________\n",
      "dropout_5 (Dropout)             (None, 10, 128)      0           max_pooling1d_3[0][0]            \n",
      "__________________________________________________________________________________________________\n",
      "conv1d_2 (Conv1D)               (None, 8, 64)        41024       dropout_1[0][0]                  \n",
      "__________________________________________________________________________________________________\n",
      "conv1d_4 (Conv1D)               (None, 7, 64)        41024       dropout_3[0][0]                  \n",
      "__________________________________________________________________________________________________\n",
      "conv1d_6 (Conv1D)               (None, 6, 64)        41024       dropout_5[0][0]                  \n",
      "__________________________________________________________________________________________________\n",
      "dropout_2 (Dropout)             (None, 8, 64)        0           conv1d_2[0][0]                   \n",
      "__________________________________________________________________________________________________\n",
      "dropout_4 (Dropout)             (None, 7, 64)        0           conv1d_4[0][0]                   \n",
      "__________________________________________________________________________________________________\n",
      "dropout_6 (Dropout)             (None, 6, 64)        0           conv1d_6[0][0]                   \n",
      "__________________________________________________________________________________________________\n",
      "global_average_pooling1d_1 (Glo (None, 64)           0           dropout_2[0][0]                  \n",
      "__________________________________________________________________________________________________\n",
      "global_average_pooling1d_2 (Glo (None, 64)           0           dropout_4[0][0]                  \n",
      "__________________________________________________________________________________________________\n",
      "global_average_pooling1d_3 (Glo (None, 64)           0           dropout_6[0][0]                  \n",
      "__________________________________________________________________________________________________\n",
      "concatenate_1 (Concatenate)     (None, 192)          0           global_average_pooling1d_1[0][0] \n",
      "                                                                 global_average_pooling1d_2[0][0] \n",
      "                                                                 global_average_pooling1d_3[0][0] \n",
      "__________________________________________________________________________________________________\n",
      "dense_1 (Dense)                 (None, 3259)         628987      concatenate_1[0][0]              \n",
      "==================================================================================================\n",
      "Total params: 12,166,971\n",
      "Trainable params: 12,166,971\n",
      "Non-trainable params: 0\n",
      "__________________________________________________________________________________________________\n"
     ]
    }
   ],
   "source": [
    "from keras.layers import Dense, Input, Flatten,concatenate\n",
    "from keras.layers import GlobalAveragePooling1D, Embedding, Dropout\n",
    "from keras.models import Model\n",
    "from keras import optimizers\n",
    "from keras.layers import Conv1D, MaxPooling1D, Flatten\n",
    "\n",
    "model_name='MultipleConv1D_FullICD_clef_submission_model'\n",
    "\n",
    "MAX_SEQUENCE_LENGTH=40\n",
    "EMBEDDING_DIM = 512\n",
    "N_CLASSES = len(classif_icd.encoder.classes_)\n",
    "MAX_NB_WORDS = len(fe.dictionary)\n",
    "\n",
    "sequence_input = Input(shape=(MAX_SEQUENCE_LENGTH,), dtype='int32')\n",
    "\n",
    "embedding_layer = Embedding(MAX_NB_WORDS, EMBEDDING_DIM,\n",
    "                            input_length=MAX_SEQUENCE_LENGTH,\n",
    "                            trainable=True)\n",
    "embedded_sequences = embedding_layer(sequence_input)\n",
    "\n",
    "\n",
    "\n",
    "# A 1D convolution with 128 output channels\n",
    "x = Conv1D(128,5, activation='relu')(embedded_sequences)\n",
    "x = MaxPooling1D(3)(x)\n",
    "x = Dropout(0.2)(x)\n",
    "# A 1D convolution with 64 output channels\n",
    "x = Conv1D(64, 5, activation='relu')(x)\n",
    "# MaxPool divides the length of the sequence by 5\n",
    "x = Dropout(0.2)(x)\n",
    "x = GlobalAveragePooling1D()(x)\n",
    "\n",
    "\n",
    "# A 1D convolution with 128 output channels\n",
    "y = Conv1D(128,7, activation='relu')(embedded_sequences)\n",
    "y = MaxPooling1D(3)(y)\n",
    "y = Dropout(0.2)(y)\n",
    "# A 1D convolution with 64 output channels\n",
    "y = Conv1D(64, 5, activation='relu')(y)\n",
    "# MaxPool divides the length of the sequence by 5\n",
    "y = Dropout(0.2)(y)\n",
    "y = GlobalAveragePooling1D()(y)\n",
    "\n",
    "\n",
    "# A 1D convolution with 128 output channels\n",
    "z = Conv1D(128,9, activation='relu')(embedded_sequences)\n",
    "z = MaxPooling1D(3)(z)\n",
    "z = Dropout(0.2)(z)\n",
    "# A 1D convolution with 64 output channels\n",
    "z = Conv1D(64,5, activation='relu')(z)\n",
    "# MaxPool divides the length of the sequence by 5\n",
    "z = Dropout(0.2)(z)\n",
    "z = GlobalAveragePooling1D()(z)\n",
    "\n",
    "\n",
    "# merge\n",
    "merged = concatenate([x,y,z])\n",
    "# interpretation\n",
    "\n",
    "\n",
    "predictions = Dense(N_CLASSES, activation='softmax')(merged)\n",
    "\n",
    "model = Model(sequence_input, predictions)\n",
    "model.compile(loss='categorical_crossentropy',\n",
    "              optimizer='adam', metrics=['acc'])\n",
    "model.summary()"
   ]
  },
  {
   "cell_type": "markdown",
   "metadata": {},
   "source": [
    "#### Fit the model"
   ]
  },
  {
   "cell_type": "code",
   "execution_count": null,
   "metadata": {},
   "outputs": [],
   "source": [
    "#history=model.fit(x_train_def,y_train_def,epochs=5,\n",
    "#                  batch_size=32, shuffle=True,validation_split=0.2)"
   ]
  },
  {
   "cell_type": "code",
   "execution_count": null,
   "metadata": {
    "collapsed": true
   },
   "outputs": [],
   "source": [
    "#model.save('models/'+model_name+'.h5')"
   ]
  },
  {
   "cell_type": "markdown",
   "metadata": {},
   "source": [
    "#### or load saved version"
   ]
  },
  {
   "cell_type": "code",
   "execution_count": 31,
   "metadata": {},
   "outputs": [
    {
     "name": "stdout",
     "output_type": "stream",
     "text": [
      "__________________________________________________________________________________________________\n",
      "Layer (type)                    Output Shape         Param #     Connected to                     \n",
      "==================================================================================================\n",
      "input_2 (InputLayer)            (None, 40)           0                                            \n",
      "__________________________________________________________________________________________________\n",
      "embedding_2 (Embedding)         (None, 40, 512)      10038272    input_2[0][0]                    \n",
      "__________________________________________________________________________________________________\n",
      "conv1d_7 (Conv1D)               (None, 36, 128)      327808      embedding_2[0][0]                \n",
      "__________________________________________________________________________________________________\n",
      "conv1d_9 (Conv1D)               (None, 34, 128)      458880      embedding_2[0][0]                \n",
      "__________________________________________________________________________________________________\n",
      "conv1d_11 (Conv1D)              (None, 32, 128)      589952      embedding_2[0][0]                \n",
      "__________________________________________________________________________________________________\n",
      "max_pooling1d_4 (MaxPooling1D)  (None, 12, 128)      0           conv1d_7[0][0]                   \n",
      "__________________________________________________________________________________________________\n",
      "max_pooling1d_5 (MaxPooling1D)  (None, 11, 128)      0           conv1d_9[0][0]                   \n",
      "__________________________________________________________________________________________________\n",
      "max_pooling1d_6 (MaxPooling1D)  (None, 10, 128)      0           conv1d_11[0][0]                  \n",
      "__________________________________________________________________________________________________\n",
      "dropout_7 (Dropout)             (None, 12, 128)      0           max_pooling1d_4[0][0]            \n",
      "__________________________________________________________________________________________________\n",
      "dropout_9 (Dropout)             (None, 11, 128)      0           max_pooling1d_5[0][0]            \n",
      "__________________________________________________________________________________________________\n",
      "dropout_11 (Dropout)            (None, 10, 128)      0           max_pooling1d_6[0][0]            \n",
      "__________________________________________________________________________________________________\n",
      "conv1d_8 (Conv1D)               (None, 8, 64)        41024       dropout_7[0][0]                  \n",
      "__________________________________________________________________________________________________\n",
      "conv1d_10 (Conv1D)              (None, 7, 64)        41024       dropout_9[0][0]                  \n",
      "__________________________________________________________________________________________________\n",
      "conv1d_12 (Conv1D)              (None, 6, 64)        41024       dropout_11[0][0]                 \n",
      "__________________________________________________________________________________________________\n",
      "dropout_8 (Dropout)             (None, 8, 64)        0           conv1d_8[0][0]                   \n",
      "__________________________________________________________________________________________________\n",
      "dropout_10 (Dropout)            (None, 7, 64)        0           conv1d_10[0][0]                  \n",
      "__________________________________________________________________________________________________\n",
      "dropout_12 (Dropout)            (None, 6, 64)        0           conv1d_12[0][0]                  \n",
      "__________________________________________________________________________________________________\n",
      "global_average_pooling1d_4 (Glo (None, 64)           0           dropout_8[0][0]                  \n",
      "__________________________________________________________________________________________________\n",
      "global_average_pooling1d_5 (Glo (None, 64)           0           dropout_10[0][0]                 \n",
      "__________________________________________________________________________________________________\n",
      "global_average_pooling1d_6 (Glo (None, 64)           0           dropout_12[0][0]                 \n",
      "__________________________________________________________________________________________________\n",
      "concatenate_2 (Concatenate)     (None, 192)          0           global_average_pooling1d_4[0][0] \n",
      "                                                                 global_average_pooling1d_5[0][0] \n",
      "                                                                 global_average_pooling1d_6[0][0] \n",
      "__________________________________________________________________________________________________\n",
      "dense_2 (Dense)                 (None, 3259)         628987      concatenate_2[0][0]              \n",
      "==================================================================================================\n",
      "Total params: 12,166,971\n",
      "Trainable params: 12,166,971\n",
      "Non-trainable params: 0\n",
      "__________________________________________________________________________________________________\n"
     ]
    }
   ],
   "source": [
    "from keras.models import load_model\n",
    "model = load_model('models/'+model_name+'.h5')\n",
    "model.summary()"
   ]
  },
  {
   "cell_type": "code",
   "execution_count": 162,
   "metadata": {
    "collapsed": true
   },
   "outputs": [],
   "source": [
    "y_pred=model.predict(x_test_def)"
   ]
  },
  {
   "cell_type": "markdown",
   "metadata": {},
   "source": [
    "### Evaluation (in the new classification)"
   ]
  },
  {
   "cell_type": "code",
   "execution_count": 163,
   "metadata": {
    "collapsed": true
   },
   "outputs": [],
   "source": [
    "from Evaluation import *\n",
    "ev=evaluation()"
   ]
  },
  {
   "cell_type": "code",
   "execution_count": 164,
   "metadata": {},
   "outputs": [
    {
     "data": {
      "text/plain": [
       "['défaillance', 'multi', 'viscérale']"
      ]
     },
     "execution_count": 164,
     "metadata": {},
     "output_type": "execute_result"
    }
   ],
   "source": [
    "x_test[1]"
   ]
  },
  {
   "cell_type": "code",
   "execution_count": 165,
   "metadata": {},
   "outputs": [
    {
     "data": {
      "text/plain": [
       "[<matplotlib.lines.Line2D at 0x7ff105b4c358>]"
      ]
     },
     "execution_count": 165,
     "metadata": {},
     "output_type": "execute_result"
    },
    {
     "data": {
      "image/png": "[encoded data removed]",
      "text/plain": [
       "<matplotlib.figure.Figure at 0x7ff3ace58a58>"
      ]
     },
     "metadata": {},
     "output_type": "display_data"
    }
   ],
   "source": [
    "plt.plot(y_pred[1])\n",
    "# 10 22"
   ]
  },
  {
   "cell_type": "code",
   "execution_count": 166,
   "metadata": {},
   "outputs": [
    {
     "data": {
      "text/plain": [
       "['I489', 'I509']"
      ]
     },
     "execution_count": 166,
     "metadata": {},
     "output_type": "execute_result"
    }
   ],
   "source": [
    "a=fe.features_from_tokens([['arythmie', 'complète', 'fibrillation', 'auriculaire','insuffisance','cardiaque']],MAX_SEQUENCE_LENGTH)\n",
    "b=model.predict(a)\n",
    "[classif_icd.encoder.classes_[k] for k,i in enumerate(ev.GetPredFromThreshold(b,0.1)[0]) if i==1 ]"
   ]
  },
  {
   "cell_type": "code",
   "execution_count": 167,
   "metadata": {},
   "outputs": [
    {
     "data": {
      "text/plain": [
       "[<matplotlib.lines.Line2D at 0x7ff10ab569e8>]"
      ]
     },
     "execution_count": 167,
     "metadata": {},
     "output_type": "execute_result"
    },
    {
     "data": {
      "image/png": "[encoded data removed]",
      "text/plain": [
       "<matplotlib.figure.Figure at 0x7ff3b014d780>"
      ]
     },
     "metadata": {},
     "output_type": "display_data"
    }
   ],
   "source": [
    "plt.plot(b[0])"
   ]
  },
  {
   "cell_type": "code",
   "execution_count": 38,
   "metadata": {},
   "outputs": [
    {
     "data": {
      "text/html": [
       "<div>\n",
       "<table border=\"1\" class=\"dataframe\">\n",
       "  <thead>\n",
       "    <tr style=\"text-align: right;\">\n",
       "      <th></th>\n",
       "      <th>Threshold</th>\n",
       "      <th>Mean of pred codes</th>\n",
       "      <th>Mean of true codes</th>\n",
       "      <th>Mean of true positives</th>\n",
       "      <th>Mean of false positives</th>\n",
       "      <th>Mean of false negatives</th>\n",
       "      <th>Precision</th>\n",
       "      <th>Recall</th>\n",
       "      <th>F1-Score</th>\n",
       "      <th>F2-Score</th>\n",
       "    </tr>\n",
       "  </thead>\n",
       "  <tbody>\n",
       "    <tr>\n",
       "      <th>0</th>\n",
       "      <td>0.900</td>\n",
       "      <td>0.5</td>\n",
       "      <td>1.2</td>\n",
       "      <td>0.0</td>\n",
       "      <td>0.0</td>\n",
       "      <td>0.7</td>\n",
       "      <td>97.7</td>\n",
       "      <td>40.0</td>\n",
       "      <td>56.7</td>\n",
       "      <td>45.3</td>\n",
       "    </tr>\n",
       "    <tr>\n",
       "      <th>1</th>\n",
       "      <td>0.800</td>\n",
       "      <td>0.6</td>\n",
       "      <td>1.2</td>\n",
       "      <td>1.0</td>\n",
       "      <td>0.0</td>\n",
       "      <td>0.6</td>\n",
       "      <td>96.9</td>\n",
       "      <td>49.3</td>\n",
       "      <td>65.3</td>\n",
       "      <td>54.6</td>\n",
       "    </tr>\n",
       "    <tr>\n",
       "      <th>2</th>\n",
       "      <td>0.700</td>\n",
       "      <td>0.7</td>\n",
       "      <td>1.2</td>\n",
       "      <td>1.0</td>\n",
       "      <td>0.0</td>\n",
       "      <td>0.6</td>\n",
       "      <td>96.0</td>\n",
       "      <td>55.0</td>\n",
       "      <td>70.0</td>\n",
       "      <td>60.2</td>\n",
       "    </tr>\n",
       "    <tr>\n",
       "      <th>3</th>\n",
       "      <td>0.600</td>\n",
       "      <td>0.8</td>\n",
       "      <td>1.2</td>\n",
       "      <td>1.0</td>\n",
       "      <td>0.0</td>\n",
       "      <td>0.5</td>\n",
       "      <td>95.3</td>\n",
       "      <td>58.7</td>\n",
       "      <td>72.7</td>\n",
       "      <td>63.6</td>\n",
       "    </tr>\n",
       "    <tr>\n",
       "      <th>4</th>\n",
       "      <td>0.500</td>\n",
       "      <td>0.8</td>\n",
       "      <td>1.2</td>\n",
       "      <td>1.0</td>\n",
       "      <td>0.0</td>\n",
       "      <td>0.5</td>\n",
       "      <td>94.4</td>\n",
       "      <td>62.1</td>\n",
       "      <td>75.0</td>\n",
       "      <td>66.7</td>\n",
       "    </tr>\n",
       "    <tr>\n",
       "      <th>5</th>\n",
       "      <td>0.400</td>\n",
       "      <td>0.9</td>\n",
       "      <td>1.2</td>\n",
       "      <td>1.0</td>\n",
       "      <td>0.1</td>\n",
       "      <td>0.4</td>\n",
       "      <td>93.2</td>\n",
       "      <td>66.1</td>\n",
       "      <td>77.3</td>\n",
       "      <td>70.2</td>\n",
       "    </tr>\n",
       "    <tr>\n",
       "      <th>6</th>\n",
       "      <td>0.300</td>\n",
       "      <td>0.9</td>\n",
       "      <td>1.2</td>\n",
       "      <td>1.0</td>\n",
       "      <td>0.1</td>\n",
       "      <td>0.4</td>\n",
       "      <td>91.2</td>\n",
       "      <td>69.8</td>\n",
       "      <td>79.0</td>\n",
       "      <td>73.2</td>\n",
       "    </tr>\n",
       "    <tr>\n",
       "      <th>7</th>\n",
       "      <td>0.200</td>\n",
       "      <td>1.1</td>\n",
       "      <td>1.2</td>\n",
       "      <td>1.0</td>\n",
       "      <td>0.2</td>\n",
       "      <td>0.3</td>\n",
       "      <td>85.8</td>\n",
       "      <td>74.7</td>\n",
       "      <td>79.9</td>\n",
       "      <td>76.7</td>\n",
       "    </tr>\n",
       "    <tr>\n",
       "      <th>8</th>\n",
       "      <td>0.150</td>\n",
       "      <td>1.2</td>\n",
       "      <td>1.2</td>\n",
       "      <td>1.0</td>\n",
       "      <td>0.2</td>\n",
       "      <td>0.3</td>\n",
       "      <td>82.0</td>\n",
       "      <td>77.4</td>\n",
       "      <td>79.6</td>\n",
       "      <td>78.3</td>\n",
       "    </tr>\n",
       "    <tr>\n",
       "      <th>9</th>\n",
       "      <td>0.100</td>\n",
       "      <td>1.3</td>\n",
       "      <td>1.2</td>\n",
       "      <td>1.0</td>\n",
       "      <td>0.3</td>\n",
       "      <td>0.2</td>\n",
       "      <td>76.2</td>\n",
       "      <td>80.3</td>\n",
       "      <td>78.2</td>\n",
       "      <td>79.4</td>\n",
       "    </tr>\n",
       "    <tr>\n",
       "      <th>10</th>\n",
       "      <td>0.090</td>\n",
       "      <td>1.3</td>\n",
       "      <td>1.2</td>\n",
       "      <td>1.0</td>\n",
       "      <td>0.3</td>\n",
       "      <td>0.2</td>\n",
       "      <td>74.7</td>\n",
       "      <td>80.9</td>\n",
       "      <td>77.7</td>\n",
       "      <td>79.6</td>\n",
       "    </tr>\n",
       "    <tr>\n",
       "      <th>11</th>\n",
       "      <td>0.080</td>\n",
       "      <td>1.4</td>\n",
       "      <td>1.2</td>\n",
       "      <td>1.0</td>\n",
       "      <td>0.4</td>\n",
       "      <td>0.2</td>\n",
       "      <td>72.7</td>\n",
       "      <td>81.5</td>\n",
       "      <td>76.9</td>\n",
       "      <td>79.6</td>\n",
       "    </tr>\n",
       "    <tr>\n",
       "      <th>12</th>\n",
       "      <td>0.070</td>\n",
       "      <td>1.5</td>\n",
       "      <td>1.2</td>\n",
       "      <td>1.0</td>\n",
       "      <td>0.4</td>\n",
       "      <td>0.2</td>\n",
       "      <td>70.2</td>\n",
       "      <td>82.2</td>\n",
       "      <td>75.7</td>\n",
       "      <td>79.5</td>\n",
       "    </tr>\n",
       "    <tr>\n",
       "      <th>13</th>\n",
       "      <td>0.060</td>\n",
       "      <td>1.5</td>\n",
       "      <td>1.2</td>\n",
       "      <td>1.0</td>\n",
       "      <td>0.5</td>\n",
       "      <td>0.2</td>\n",
       "      <td>67.1</td>\n",
       "      <td>83.1</td>\n",
       "      <td>74.2</td>\n",
       "      <td>79.3</td>\n",
       "    </tr>\n",
       "    <tr>\n",
       "      <th>14</th>\n",
       "      <td>0.050</td>\n",
       "      <td>1.6</td>\n",
       "      <td>1.2</td>\n",
       "      <td>1.0</td>\n",
       "      <td>0.6</td>\n",
       "      <td>0.2</td>\n",
       "      <td>63.5</td>\n",
       "      <td>83.9</td>\n",
       "      <td>72.3</td>\n",
       "      <td>78.8</td>\n",
       "    </tr>\n",
       "    <tr>\n",
       "      <th>15</th>\n",
       "      <td>0.040</td>\n",
       "      <td>1.8</td>\n",
       "      <td>1.2</td>\n",
       "      <td>1.0</td>\n",
       "      <td>0.8</td>\n",
       "      <td>0.2</td>\n",
       "      <td>58.4</td>\n",
       "      <td>84.9</td>\n",
       "      <td>69.2</td>\n",
       "      <td>77.8</td>\n",
       "    </tr>\n",
       "    <tr>\n",
       "      <th>16</th>\n",
       "      <td>0.030</td>\n",
       "      <td>2.1</td>\n",
       "      <td>1.2</td>\n",
       "      <td>1.0</td>\n",
       "      <td>1.0</td>\n",
       "      <td>0.2</td>\n",
       "      <td>51.8</td>\n",
       "      <td>86.1</td>\n",
       "      <td>64.7</td>\n",
       "      <td>76.0</td>\n",
       "    </tr>\n",
       "    <tr>\n",
       "      <th>17</th>\n",
       "      <td>0.020</td>\n",
       "      <td>2.6</td>\n",
       "      <td>1.2</td>\n",
       "      <td>1.0</td>\n",
       "      <td>1.5</td>\n",
       "      <td>0.2</td>\n",
       "      <td>41.5</td>\n",
       "      <td>87.5</td>\n",
       "      <td>56.3</td>\n",
       "      <td>71.6</td>\n",
       "    </tr>\n",
       "    <tr>\n",
       "      <th>18</th>\n",
       "      <td>0.010</td>\n",
       "      <td>4.2</td>\n",
       "      <td>1.2</td>\n",
       "      <td>1.0</td>\n",
       "      <td>3.1</td>\n",
       "      <td>0.1</td>\n",
       "      <td>26.4</td>\n",
       "      <td>89.5</td>\n",
       "      <td>40.7</td>\n",
       "      <td>60.5</td>\n",
       "    </tr>\n",
       "    <tr>\n",
       "      <th>19</th>\n",
       "      <td>0.001</td>\n",
       "      <td>25.2</td>\n",
       "      <td>1.2</td>\n",
       "      <td>1.0</td>\n",
       "      <td>24.1</td>\n",
       "      <td>0.1</td>\n",
       "      <td>4.6</td>\n",
       "      <td>94.2</td>\n",
       "      <td>8.8</td>\n",
       "      <td>19.4</td>\n",
       "    </tr>\n",
       "  </tbody>\n",
       "</table>\n",
       "</div>"
      ],
      "text/plain": [
       "    Threshold  Mean of pred codes  Mean of true codes  Mean of true positives  \\\n",
       "0       0.900                 0.5                 1.2                     0.0   \n",
       "1       0.800                 0.6                 1.2                     1.0   \n",
       "2       0.700                 0.7                 1.2                     1.0   \n",
       "3       0.600                 0.8                 1.2                     1.0   \n",
       "4       0.500                 0.8                 1.2                     1.0   \n",
       "5       0.400                 0.9                 1.2                     1.0   \n",
       "6       0.300                 0.9                 1.2                     1.0   \n",
       "7       0.200                 1.1                 1.2                     1.0   \n",
       "8       0.150                 1.2                 1.2                     1.0   \n",
       "9       0.100                 1.3                 1.2                     1.0   \n",
       "10      0.090                 1.3                 1.2                     1.0   \n",
       "11      0.080                 1.4                 1.2                     1.0   \n",
       "12      0.070                 1.5                 1.2                     1.0   \n",
       "13      0.060                 1.5                 1.2                     1.0   \n",
       "14      0.050                 1.6                 1.2                     1.0   \n",
       "15      0.040                 1.8                 1.2                     1.0   \n",
       "16      0.030                 2.1                 1.2                     1.0   \n",
       "17      0.020                 2.6                 1.2                     1.0   \n",
       "18      0.010                 4.2                 1.2                     1.0   \n",
       "19      0.001                25.2                 1.2                     1.0   \n",
       "\n",
       "    Mean of false positives  Mean of false negatives  Precision  Recall  \\\n",
       "0                       0.0                      0.7       97.7    40.0   \n",
       "1                       0.0                      0.6       96.9    49.3   \n",
       "2                       0.0                      0.6       96.0    55.0   \n",
       "3                       0.0                      0.5       95.3    58.7   \n",
       "4                       0.0                      0.5       94.4    62.1   \n",
       "5                       0.1                      0.4       93.2    66.1   \n",
       "6                       0.1                      0.4       91.2    69.8   \n",
       "7                       0.2                      0.3       85.8    74.7   \n",
       "8                       0.2                      0.3       82.0    77.4   \n",
       "9                       0.3                      0.2       76.2    80.3   \n",
       "10                      0.3                      0.2       74.7    80.9   \n",
       "11                      0.4                      0.2       72.7    81.5   \n",
       "12                      0.4                      0.2       70.2    82.2   \n",
       "13                      0.5                      0.2       67.1    83.1   \n",
       "14                      0.6                      0.2       63.5    83.9   \n",
       "15                      0.8                      0.2       58.4    84.9   \n",
       "16                      1.0                      0.2       51.8    86.1   \n",
       "17                      1.5                      0.2       41.5    87.5   \n",
       "18                      3.1                      0.1       26.4    89.5   \n",
       "19                     24.1                      0.1        4.6    94.2   \n",
       "\n",
       "    F1-Score  F2-Score  \n",
       "0       56.7      45.3  \n",
       "1       65.3      54.6  \n",
       "2       70.0      60.2  \n",
       "3       72.7      63.6  \n",
       "4       75.0      66.7  \n",
       "5       77.3      70.2  \n",
       "6       79.0      73.2  \n",
       "7       79.9      76.7  \n",
       "8       79.6      78.3  \n",
       "9       78.2      79.4  \n",
       "10      77.7      79.6  \n",
       "11      76.9      79.6  \n",
       "12      75.7      79.5  \n",
       "13      74.2      79.3  \n",
       "14      72.3      78.8  \n",
       "15      69.2      77.8  \n",
       "16      64.7      76.0  \n",
       "17      56.3      71.6  \n",
       "18      40.7      60.5  \n",
       "19       8.8      19.4  "
      ]
     },
     "execution_count": 38,
     "metadata": {},
     "output_type": "execute_result"
    }
   ],
   "source": [
    "Results= ev.prepare_results()\n",
    "for t in [0.9,0.8,0.7,0.6,0.5,0.4,0.3,0.2,0.15,0.1,0.09,0.08,0.07,0.06,0.05,0.04,0.03,0.02,0.01,0.001]:\n",
    "    Results=Results.append(ev.GetMetricsFromHotEncoder(y_test_def,y_pred,t),ignore_index=True)\n",
    "Results.to_csv('models/'+model_name+'.csv')\n",
    "Results"
   ]
  },
  {
   "cell_type": "code",
   "execution_count": 39,
   "metadata": {},
   "outputs": [
    {
     "data": {
      "image/png": "[encoded data removed]",
      "text/plain": [
       "<matplotlib.figure.Figure at 0x7ff10c0765f8>"
      ]
     },
     "metadata": {},
     "output_type": "display_data"
    }
   ],
   "source": [
    "fig = plt.figure(1, figsize=(7, 7))\n",
    "ax1=plt.subplot(1, 1, 1)\n",
    "\n",
    "ax1.plot(Results['Threshold'], Results['Recall'], \"s-\",label='Recall')\n",
    "ax1.plot(Results['Threshold'], Results['Precision'], \"s-\",label='Precision')\n",
    "ax1.plot(Results['Threshold'], Results['F2-Score'], \"s-\",label='F2-Score')\n",
    "ax1.set_xlabel(\"Threshold\")\n",
    "ax1.legend(loc=\"lower right\")\n",
    "ax1.set_title('CNN performance-1 Recall and F2-score based on thershold over prediction score')\n",
    "fig.savefig('cnn_preformance-1.png')"
   ]
  },
  {
   "cell_type": "markdown",
   "metadata": {},
   "source": [
    "### Detail of the prédiction a the code level"
   ]
  },
  {
   "cell_type": "code",
   "execution_count": 40,
   "metadata": {
    "collapsed": true
   },
   "outputs": [],
   "source": [
    "c_1000=[classif_icd.class_to_index[c] for c,n in counter_all_codes.items() if n>=1000]\n",
    "c_500_1000=[classif_icd.class_to_index[c] for c,n in counter_all_codes.items()if  n>=500 and n<1000]\n",
    "c_200_500=[classif_icd.class_to_index[c] for c,n in counter_all_codes.items() if  n>=200 and n<500]\n",
    "c_200=[classif_icd.class_to_index[c] for c,n in counter_all_codes.items() if n<200]"
   ]
  },
  {
   "cell_type": "code",
   "execution_count": 41,
   "metadata": {
    "collapsed": true
   },
   "outputs": [],
   "source": [
    "pred=np.where(y_pred<0.15,-2,1)\n",
    "res=pred+y_test_def"
   ]
  },
  {
   "cell_type": "code",
   "execution_count": 43,
   "metadata": {
    "collapsed": true
   },
   "outputs": [],
   "source": [
    "f_neg=Counter(np.nonzero(res==-1)[1])\n",
    "f_pos=Counter(np.nonzero(res==1)[1])\n",
    "t_pos=Counter(np.nonzero(res==2)[1])"
   ]
  },
  {
   "cell_type": "code",
   "execution_count": 44,
   "metadata": {
    "collapsed": true
   },
   "outputs": [],
   "source": [
    "nb=Counter(np.nonzero(y_test_def==1)[1])"
   ]
  },
  {
   "cell_type": "markdown",
   "metadata": {},
   "source": [
    "#### proportion of true positves by group of codes frequencies"
   ]
  },
  {
   "cell_type": "code",
   "execution_count": 46,
   "metadata": {
    "collapsed": true
   },
   "outputs": [],
   "source": [
    "res={}\n",
    "for i in range(classif_icd.n_classes):\n",
    "    if i in nb:\n",
    "        res[i]=t_pos[i]/nb[i]"
   ]
  },
  {
   "cell_type": "code",
   "execution_count": 47,
   "metadata": {
    "collapsed": true
   },
   "outputs": [],
   "source": [
    "g_1000_tp=np.mean(np.array([val for c,val in res.items() if c in c_1000]))\n",
    "g_500_1000_tp=np.mean(np.array([val for c,val in res.items() if c in c_500_1000]))\n",
    "c_200_500_tp=np.mean(np.array([val for c,val in res.items() if c in c_200_500]))\n",
    "c_200_tp=np.mean(np.array([val for c,val in res.items() if c in c_200]))"
   ]
  },
  {
   "cell_type": "markdown",
   "metadata": {},
   "source": [
    "#### proportion of true positves by group of codes frequencies"
   ]
  },
  {
   "cell_type": "code",
   "execution_count": 49,
   "metadata": {
    "collapsed": true
   },
   "outputs": [],
   "source": [
    "res={}\n",
    "for i in range(classif_icd.n_classes):\n",
    "    if i in nb:\n",
    "        res[i]=f_neg[i]/nb[i]"
   ]
  },
  {
   "cell_type": "code",
   "execution_count": 50,
   "metadata": {
    "collapsed": true
   },
   "outputs": [],
   "source": [
    "g_1000_fn=np.mean(np.array([val for c,val in res.items() if c in c_1000]))\n",
    "g_500_1000_fn=np.mean(np.array([val for c,val in res.items() if c in c_500_1000]))\n",
    "c_200_500_fn=np.mean(np.array([val for c,val in res.items() if c in c_200_500]))\n",
    "c_200_fn=np.mean(np.array([val for c,val in res.items() if c in c_200]))"
   ]
  },
  {
   "cell_type": "code",
   "execution_count": 149,
   "metadata": {},
   "outputs": [
    {
     "name": "stdout",
     "output_type": "stream",
     "text": [
      "\n",
      " Freq codes [1000 ; inf [  : Prop. true positives 84.4 - Prop. false negatives 15.6\n",
      " Freq codes [500 ; 1000 [  : Prop. true positives 75.0 - Prop. false negatives 25.0\n",
      " Freq codes [200 ; 5000 [  : Prop. true positives 67.7 - Prop. false negatives 32.3\n",
      " Freq codes [0 ; 200 [     : Prop. true positives 28.5  -Prop. false negatives 71.5\n"
     ]
    }
   ],
   "source": [
    "print(\n",
    "'\\n Freq codes [1000 ; inf [  : Prop. true positives '+str(round(g_1000_tp*100,1))+' - Prop. false negatives '+str(round(g_1000_fn*100,1))+\n",
    "'\\n Freq codes [500 ; 1000 [  : Prop. true positives '+str(round(g_500_1000_tp*100,1))+' - Prop. false negatives '+str(round(g_500_1000_fn*100,1))+\n",
    "'\\n Freq codes [200 ; 5000 [  : Prop. true positives '+str(round(c_200_500_tp*100,1))+' - Prop. false negatives '+str(round(c_200_500_fn*100,1))+\n",
    "'\\n Freq codes [0 ; 200 [     : Prop. true positives '+str(round(c_200_tp*100,1))+'  -Prop. false negatives '+str(round(c_200_fn*100,1))\n",
    ")"
   ]
  },
  {
   "cell_type": "markdown",
   "metadata": {},
   "source": [
    "## Words (from thesaurus) appearance predictor\n",
    "\n",
    "### due to weekness of predictor for codes with low frequencie, try improve prediction for those codes with word recognition on the ICD index."
   ]
  },
  {
   "cell_type": "code",
   "execution_count": 52,
   "metadata": {},
   "outputs": [
    {
     "data": {
      "text/plain": [
       "3126"
      ]
     },
     "execution_count": 52,
     "metadata": {},
     "output_type": "execute_result"
    }
   ],
   "source": [
    "_restriction_=c_200_500+c_200\n",
    "len(_restriction_)"
   ]
  },
  {
   "cell_type": "markdown",
   "metadata": {},
   "source": [
    "### Use [word : ICD codes] indexes and reverse"
   ]
  },
  {
   "cell_type": "code",
   "execution_count": 56,
   "metadata": {
    "collapsed": true
   },
   "outputs": [],
   "source": [
    "from string import punctuation\n",
    "pattern = r\"[{}]\".format(punctuation+'\\s')\n",
    "\n",
    "keyword_index_icd={}\n",
    "sent_index_icd=[]\n",
    "with open('dictionaries/CIM-10-GM AI FR A-Z CSV_2016_11_09_1810.csv', 'r', encoding=\"utf-8\") as f:\n",
    "    \n",
    "    reader = csv.reader(f)\n",
    "    \n",
    "    next(reader)\n",
    "    \n",
    "    for line_ in reader:\n",
    "        \n",
    "        c=line_[1]\n",
    "        c=re.sub(r'[\\+\\.\\-†*!\\s]','',c)\n",
    "        c=re.split(',',c)\n",
    "        \n",
    "        s=line_[2]\n",
    "        s=re.sub(r'[:]','',s)\n",
    "        s=s.split(' ¬ ')\n",
    "        \n",
    "        for c_ in c:\n",
    "            if c_ in classif_icd.encoder.classes_:\n",
    "                keyword=re.sub(pattern,'',line_[0]).lower()\n",
    "\n",
    "                if keyword not in keyword_index_icd:\n",
    "                    keyword_index_icd[keyword]=set()\n",
    "\n",
    "                keyword_index_icd[keyword].update([classif_icd.class_to_index[c_]])"
   ]
  },
  {
   "cell_type": "markdown",
   "metadata": {},
   "source": [
    "### predictor based of singularity of word association x number of words recognize in a sentence"
   ]
  },
  {
   "cell_type": "code",
   "execution_count": 53,
   "metadata": {
    "collapsed": true
   },
   "outputs": [],
   "source": [
    "from random import uniform"
   ]
  },
  {
   "cell_type": "code",
   "execution_count": 199,
   "metadata": {
    "collapsed": true
   },
   "outputs": [],
   "source": [
    "def WordsAppearancePrediction(s):\n",
    "    \n",
    "    keyword_codes_array=np.zeros(classif_icd.n_classes)\n",
    "    keyword_codes_array2=np.zeros(classif_icd.n_classes)\n",
    "    keyword_codes_array3=np.zeros(classif_icd.n_classes)\n",
    "    \n",
    "    keyword_codes_array_=np.zeros(classif_icd.n_classes)\n",
    "    for w in s:\n",
    "\n",
    "        if w in keyword_index_icd:\n",
    "            ind=[n for n in keyword_index_icd[w]]\n",
    "            #keyword_codes_array[ind]=keyword_codes_array[ind]+uniform(0,1)\n",
    "            keyword_codes_array[ind]+=1/len(keyword_index_icd[w])\n",
    "            keyword_codes_array2[ind]+=1\n",
    "    \n",
    "\n",
    "    keyword_codes_array3[_restriction_]=keyword_codes_array[_restriction_]*keyword_codes_array2[_restriction_]\n",
    "    \n",
    "    keyword_codes_array_[np.argmax(keyword_codes_array2)]=0.10\n",
    "    return keyword_codes_array_"
   ]
  },
  {
   "cell_type": "code",
   "execution_count": 200,
   "metadata": {},
   "outputs": [
    {
     "data": {
      "text/plain": [
       "[[0.1, 'I489']]"
      ]
     },
     "execution_count": 200,
     "metadata": {},
     "output_type": "execute_result"
    }
   ],
   "source": [
    "a=['arythmie', 'complète', 'fibrillation', 'auriculaire','insuffisance','cardiaque']\n",
    "[[v,classif_icd.encoder.classes_[k]] for k,v in enumerate(WordsAppearancePrediction(a)) if v!=0]"
   ]
  },
  {
   "cell_type": "markdown",
   "metadata": {},
   "source": [
    "#### Word recognition prediction will be added to "
   ]
  },
  {
   "cell_type": "code",
   "execution_count": 201,
   "metadata": {},
   "outputs": [
    {
     "data": {
      "text/html": [
       "<div>\n",
       "<table border=\"1\" class=\"dataframe\">\n",
       "  <thead>\n",
       "    <tr style=\"text-align: right;\">\n",
       "      <th></th>\n",
       "      <th>Threshold</th>\n",
       "      <th>Mean of pred codes</th>\n",
       "      <th>Mean of true codes</th>\n",
       "      <th>Mean of true positives</th>\n",
       "      <th>Mean of false positives</th>\n",
       "      <th>Mean of false negatives</th>\n",
       "      <th>Precision</th>\n",
       "      <th>Recall</th>\n",
       "      <th>F1-Score</th>\n",
       "      <th>F2-Score</th>\n",
       "    </tr>\n",
       "  </thead>\n",
       "  <tbody>\n",
       "    <tr>\n",
       "      <th>0</th>\n",
       "      <td>0.30</td>\n",
       "      <td>1.0</td>\n",
       "      <td>1.2</td>\n",
       "      <td>1.0</td>\n",
       "      <td>0.1</td>\n",
       "      <td>0.4</td>\n",
       "      <td>91.1</td>\n",
       "      <td>70.1</td>\n",
       "      <td>79.2</td>\n",
       "      <td>73.5</td>\n",
       "    </tr>\n",
       "    <tr>\n",
       "      <th>1</th>\n",
       "      <td>0.25</td>\n",
       "      <td>1.0</td>\n",
       "      <td>1.2</td>\n",
       "      <td>1.0</td>\n",
       "      <td>0.1</td>\n",
       "      <td>0.3</td>\n",
       "      <td>89.6</td>\n",
       "      <td>72.2</td>\n",
       "      <td>80.0</td>\n",
       "      <td>75.2</td>\n",
       "    </tr>\n",
       "    <tr>\n",
       "      <th>2</th>\n",
       "      <td>0.20</td>\n",
       "      <td>1.1</td>\n",
       "      <td>1.2</td>\n",
       "      <td>1.0</td>\n",
       "      <td>0.2</td>\n",
       "      <td>0.3</td>\n",
       "      <td>85.6</td>\n",
       "      <td>75.0</td>\n",
       "      <td>80.0</td>\n",
       "      <td>76.9</td>\n",
       "    </tr>\n",
       "    <tr>\n",
       "      <th>3</th>\n",
       "      <td>0.15</td>\n",
       "      <td>1.2</td>\n",
       "      <td>1.2</td>\n",
       "      <td>1.0</td>\n",
       "      <td>0.2</td>\n",
       "      <td>0.3</td>\n",
       "      <td>81.6</td>\n",
       "      <td>77.7</td>\n",
       "      <td>79.6</td>\n",
       "      <td>78.5</td>\n",
       "    </tr>\n",
       "    <tr>\n",
       "      <th>4</th>\n",
       "      <td>0.10</td>\n",
       "      <td>2.0</td>\n",
       "      <td>1.2</td>\n",
       "      <td>1.0</td>\n",
       "      <td>1.0</td>\n",
       "      <td>0.2</td>\n",
       "      <td>51.3</td>\n",
       "      <td>81.2</td>\n",
       "      <td>62.8</td>\n",
       "      <td>72.7</td>\n",
       "    </tr>\n",
       "    <tr>\n",
       "      <th>5</th>\n",
       "      <td>0.09</td>\n",
       "      <td>2.2</td>\n",
       "      <td>1.2</td>\n",
       "      <td>1.0</td>\n",
       "      <td>1.2</td>\n",
       "      <td>0.2</td>\n",
       "      <td>46.5</td>\n",
       "      <td>81.8</td>\n",
       "      <td>59.3</td>\n",
       "      <td>71.0</td>\n",
       "    </tr>\n",
       "    <tr>\n",
       "      <th>6</th>\n",
       "      <td>0.08</td>\n",
       "      <td>2.2</td>\n",
       "      <td>1.2</td>\n",
       "      <td>1.0</td>\n",
       "      <td>1.2</td>\n",
       "      <td>0.2</td>\n",
       "      <td>45.8</td>\n",
       "      <td>82.4</td>\n",
       "      <td>58.9</td>\n",
       "      <td>71.1</td>\n",
       "    </tr>\n",
       "  </tbody>\n",
       "</table>\n",
       "</div>"
      ],
      "text/plain": [
       "   Threshold  Mean of pred codes  Mean of true codes  Mean of true positives  \\\n",
       "0       0.30                 1.0                 1.2                     1.0   \n",
       "1       0.25                 1.0                 1.2                     1.0   \n",
       "2       0.20                 1.1                 1.2                     1.0   \n",
       "3       0.15                 1.2                 1.2                     1.0   \n",
       "4       0.10                 2.0                 1.2                     1.0   \n",
       "5       0.09                 2.2                 1.2                     1.0   \n",
       "6       0.08                 2.2                 1.2                     1.0   \n",
       "\n",
       "   Mean of false positives  Mean of false negatives  Precision  Recall  \\\n",
       "0                      0.1                      0.4       91.1    70.1   \n",
       "1                      0.1                      0.3       89.6    72.2   \n",
       "2                      0.2                      0.3       85.6    75.0   \n",
       "3                      0.2                      0.3       81.6    77.7   \n",
       "4                      1.0                      0.2       51.3    81.2   \n",
       "5                      1.2                      0.2       46.5    81.8   \n",
       "6                      1.2                      0.2       45.8    82.4   \n",
       "\n",
       "   F1-Score  F2-Score  \n",
       "0      79.2      73.5  \n",
       "1      80.0      75.2  \n",
       "2      80.0      76.9  \n",
       "3      79.6      78.5  \n",
       "4      62.8      72.7  \n",
       "5      59.3      71.0  \n",
       "6      58.9      71.1  "
      ]
     },
     "execution_count": 201,
     "metadata": {},
     "output_type": "execute_result"
    }
   ],
   "source": [
    "wk_pred=np.array([WordsAppearancePrediction(s) for s in x_test])\n",
    "y_pred_final=y_pred+wk_pred\n",
    "Results= ev.prepare_results()\n",
    "for t in [0.3,0.25,0.2,0.15,0.1,0.09,.08]:\n",
    "    Results=Results.append(ev.GetMetricsFromHotEncoder(y_test_def,y_pred_final,t),ignore_index=True)\n",
    "\n",
    "Results"
   ]
  },
  {
   "cell_type": "code",
   "execution_count": 196,
   "metadata": {
    "collapsed": true
   },
   "outputs": [],
   "source": [
    "pred=np.where(y_pred_final<0.15,-2,1)\n",
    "res=pred+y_test_def"
   ]
  },
  {
   "cell_type": "code",
   "execution_count": 197,
   "metadata": {
    "collapsed": true
   },
   "outputs": [],
   "source": [
    "f_neg=Counter(np.nonzero(res==-1)[1])\n",
    "f_pos=Counter(np.nonzero(res==1)[1])\n",
    "t_pos=Counter(np.nonzero(res==2)[1])\n",
    "res={}\n",
    "for i in range(classif_icd.n_classes):\n",
    "    if i in nb:\n",
    "        res[i]=t_pos[i]/nb[i]\n",
    "g_1000_tp=np.mean(np.array([val for c,val in res.items() if c in c_1000]))\n",
    "g_500_1000_tp=np.mean(np.array([val for c,val in res.items() if c in c_500_1000]))\n",
    "c_200_500_tp=np.mean(np.array([val for c,val in res.items() if c in c_200_500]))\n",
    "c_200_tp=np.mean(np.array([val for c,val in res.items() if c in c_200]))\n",
    "res={}\n",
    "for i in range(classif_icd.n_classes):\n",
    "    if i in nb:\n",
    "        res[i]=f_neg[i]/nb[i]\n",
    "g_1000_fn=np.mean(np.array([val for c,val in res.items() if c in c_1000]))\n",
    "g_500_1000_fn=np.mean(np.array([val for c,val in res.items() if c in c_500_1000]))\n",
    "c_200_500_fn=np.mean(np.array([val for c,val in res.items() if c in c_200_500]))\n",
    "c_200_fn=np.mean(np.array([val for c,val in res.items() if c in c_200]))\n"
   ]
  },
  {
   "cell_type": "code",
   "execution_count": 198,
   "metadata": {},
   "outputs": [
    {
     "name": "stdout",
     "output_type": "stream",
     "text": [
      "\n",
      " Freq codes [1000 ; inf [  : Prop. true positives 85.3 - Prop. false negatives 14.7\n",
      " Freq codes [500 ; 1000 [  : Prop. true positives 76.0 - Prop. false negatives 24.0\n",
      " Freq codes [200 ; 5000 [  : Prop. true positives 68.5 - Prop. false negatives 31.5\n",
      " Freq codes [0 ; 200 [     : Prop. true positives 34.2  -Prop. false negatives 65.8\n"
     ]
    }
   ],
   "source": [
    "print(\n",
    "'\\n Freq codes [1000 ; inf [  : Prop. true positives '+str(round(g_1000_tp*100,1))+' - Prop. false negatives '+str(round(g_1000_fn*100,1))+\n",
    "'\\n Freq codes [500 ; 1000 [  : Prop. true positives '+str(round(g_500_1000_tp*100,1))+' - Prop. false negatives '+str(round(g_500_1000_fn*100,1))+\n",
    "'\\n Freq codes [200 ; 5000 [  : Prop. true positives '+str(round(c_200_500_tp*100,1))+' - Prop. false negatives '+str(round(c_200_500_fn*100,1))+\n",
    "'\\n Freq codes [0 ; 200 [     : Prop. true positives '+str(round(c_200_tp*100,1))+'  -Prop. false negatives '+str(round(c_200_fn*100,1))\n",
    ")"
   ]
  },
  {
   "cell_type": "markdown",
   "metadata": {},
   "source": [
    "## Final prediction"
   ]
  },
  {
   "cell_type": "markdown",
   "metadata": {},
   "source": [
    "### Build prediction function\n",
    "Return a vector of possible codes from entity recognition in a sentence.\n",
    "\n",
    "First :\n",
    "- build a vector V of all possible ICD codes inialized at 0\n",
    "\n",
    "Loop on words of a sentences (ie a document on the dataset):\n",
    "- for each words of a sentence find an entry in the [word/code] index\n",
    "- for each word get the codes associated if any\n",
    "- for those codes add a random number in the vector V\n",
    "\n",
    "At the end :\n",
    "- build a table of frequencies of the numbers associated with each codes in V (resulting in addition of random numbers a each word step)\n",
    "- only keep the codes that have a few reprensents in the table of frequencies (resulting of association of distinct words or presence of words associated with few codes)\n",
    "\n"
   ]
  },
  {
   "cell_type": "code",
   "execution_count": 193,
   "metadata": {},
   "outputs": [],
   "source": [
    "def predictor_OneHotEncoded(x_test):\n",
    "    \n",
    "    ## Conv RNN\n",
    "    x_test_def=fe.features_from_tokens(x_test,MAX_SEQUENCE_LENGTH)\n",
    "    y_pred=model.predict(x_test_def)\n",
    "    \n",
    "    ## words recognition prediction\n",
    "    wk_pred=np.array([WordsAppearancePrediction(s) for s in x_test])\n",
    "    \n",
    "    y_pred_final=y_pred+wk_pred\n",
    "\n",
    "    return y_pred_final\n",
    "\n",
    "def predictor(x_test,threshold=0.15):\n",
    "    \n",
    "    \n",
    "    y_codes=[]\n",
    "    \n",
    "    ohe=predictor_OneHotEncoded(x_test)\n",
    "  \n",
    "    for v in ohe:\n",
    "       \n",
    "        y_codes.append([classif_icd.encoder.classes_[num] for num,c in enumerate(v) if c>=threshold])\n",
    "        \n",
    "    \n",
    "    return y_codes"
   ]
  },
  {
   "cell_type": "markdown",
   "metadata": {},
   "source": [
    "Test"
   ]
  },
  {
   "cell_type": "code",
   "execution_count": 194,
   "metadata": {},
   "outputs": [
    {
     "data": {
      "text/plain": [
       "[['I489']]"
      ]
     },
     "execution_count": 194,
     "metadata": {},
     "output_type": "execute_result"
    }
   ],
   "source": [
    "a=[['arythmie', 'complète', 'fibrillation', 'auriculaire','insuffisance','cardiaque']]\n",
    "predictor(a)"
   ]
  },
  {
   "cell_type": "code",
   "execution_count": 132,
   "metadata": {},
   "outputs": [
    {
     "data": {
      "text/html": [
       "<div>\n",
       "<table border=\"1\" class=\"dataframe\">\n",
       "  <thead>\n",
       "    <tr style=\"text-align: right;\">\n",
       "      <th></th>\n",
       "      <th>Threshold</th>\n",
       "      <th>Mean of pred codes</th>\n",
       "      <th>Mean of true codes</th>\n",
       "      <th>Mean of true positives</th>\n",
       "      <th>Mean of false positives</th>\n",
       "      <th>Mean of false negatives</th>\n",
       "      <th>Precision</th>\n",
       "      <th>Recall</th>\n",
       "      <th>F1-Score</th>\n",
       "      <th>F2-Score</th>\n",
       "    </tr>\n",
       "  </thead>\n",
       "  <tbody>\n",
       "    <tr>\n",
       "      <th>0</th>\n",
       "      <td>0.30</td>\n",
       "      <td>1.0</td>\n",
       "      <td>1.2</td>\n",
       "      <td>1.0</td>\n",
       "      <td>0.1</td>\n",
       "      <td>0.4</td>\n",
       "      <td>91.1</td>\n",
       "      <td>70.0</td>\n",
       "      <td>79.1</td>\n",
       "      <td>73.4</td>\n",
       "    </tr>\n",
       "    <tr>\n",
       "      <th>1</th>\n",
       "      <td>0.25</td>\n",
       "      <td>1.0</td>\n",
       "      <td>1.2</td>\n",
       "      <td>1.0</td>\n",
       "      <td>0.1</td>\n",
       "      <td>0.3</td>\n",
       "      <td>89.5</td>\n",
       "      <td>72.1</td>\n",
       "      <td>79.9</td>\n",
       "      <td>75.1</td>\n",
       "    </tr>\n",
       "    <tr>\n",
       "      <th>2</th>\n",
       "      <td>0.20</td>\n",
       "      <td>1.1</td>\n",
       "      <td>1.2</td>\n",
       "      <td>1.0</td>\n",
       "      <td>0.2</td>\n",
       "      <td>0.3</td>\n",
       "      <td>85.6</td>\n",
       "      <td>75.0</td>\n",
       "      <td>80.0</td>\n",
       "      <td>76.9</td>\n",
       "    </tr>\n",
       "    <tr>\n",
       "      <th>3</th>\n",
       "      <td>0.15</td>\n",
       "      <td>1.2</td>\n",
       "      <td>1.2</td>\n",
       "      <td>1.0</td>\n",
       "      <td>0.2</td>\n",
       "      <td>0.3</td>\n",
       "      <td>81.8</td>\n",
       "      <td>77.7</td>\n",
       "      <td>79.7</td>\n",
       "      <td>78.5</td>\n",
       "    </tr>\n",
       "    <tr>\n",
       "      <th>4</th>\n",
       "      <td>0.10</td>\n",
       "      <td>1.6</td>\n",
       "      <td>1.2</td>\n",
       "      <td>1.0</td>\n",
       "      <td>0.6</td>\n",
       "      <td>0.2</td>\n",
       "      <td>61.4</td>\n",
       "      <td>81.1</td>\n",
       "      <td>69.9</td>\n",
       "      <td>76.2</td>\n",
       "    </tr>\n",
       "    <tr>\n",
       "      <th>5</th>\n",
       "      <td>0.09</td>\n",
       "      <td>2.2</td>\n",
       "      <td>1.2</td>\n",
       "      <td>1.0</td>\n",
       "      <td>1.2</td>\n",
       "      <td>0.2</td>\n",
       "      <td>45.7</td>\n",
       "      <td>81.7</td>\n",
       "      <td>58.6</td>\n",
       "      <td>70.6</td>\n",
       "    </tr>\n",
       "    <tr>\n",
       "      <th>6</th>\n",
       "      <td>0.08</td>\n",
       "      <td>2.3</td>\n",
       "      <td>1.2</td>\n",
       "      <td>1.0</td>\n",
       "      <td>1.2</td>\n",
       "      <td>0.2</td>\n",
       "      <td>45.1</td>\n",
       "      <td>82.3</td>\n",
       "      <td>58.2</td>\n",
       "      <td>70.6</td>\n",
       "    </tr>\n",
       "  </tbody>\n",
       "</table>\n",
       "</div>"
      ],
      "text/plain": [
       "   Threshold  Mean of pred codes  Mean of true codes  Mean of true positives  \\\n",
       "0       0.30                 1.0                 1.2                     1.0   \n",
       "1       0.25                 1.0                 1.2                     1.0   \n",
       "2       0.20                 1.1                 1.2                     1.0   \n",
       "3       0.15                 1.2                 1.2                     1.0   \n",
       "4       0.10                 1.6                 1.2                     1.0   \n",
       "5       0.09                 2.2                 1.2                     1.0   \n",
       "6       0.08                 2.3                 1.2                     1.0   \n",
       "\n",
       "   Mean of false positives  Mean of false negatives  Precision  Recall  \\\n",
       "0                      0.1                      0.4       91.1    70.0   \n",
       "1                      0.1                      0.3       89.5    72.1   \n",
       "2                      0.2                      0.3       85.6    75.0   \n",
       "3                      0.2                      0.3       81.8    77.7   \n",
       "4                      0.6                      0.2       61.4    81.1   \n",
       "5                      1.2                      0.2       45.7    81.7   \n",
       "6                      1.2                      0.2       45.1    82.3   \n",
       "\n",
       "   F1-Score  F2-Score  \n",
       "0      79.1      73.4  \n",
       "1      79.9      75.1  \n",
       "2      80.0      76.9  \n",
       "3      79.7      78.5  \n",
       "4      69.9      76.2  \n",
       "5      58.6      70.6  \n",
       "6      58.2      70.6  "
      ]
     },
     "execution_count": 132,
     "metadata": {},
     "output_type": "execute_result"
    }
   ],
   "source": [
    "y_pred_final=predictor_OneHotEncoded(x_test)\n",
    "Results= ev.prepare_results()\n",
    "for t in [0.3,0.25,0.2,0.15,0.1,0.09,.08]:\n",
    "    Results=Results.append(ev.GetMetricsFromHotEncoder(y_test_def,y_pred_final,t),ignore_index=True)\n",
    "\n",
    "Results"
   ]
  },
  {
   "cell_type": "markdown",
   "metadata": {},
   "source": [
    "### Final performance on test set"
   ]
  },
  {
   "cell_type": "code",
   "execution_count": 133,
   "metadata": {},
   "outputs": [
    {
     "data": {
      "text/plain": [
       "{'F1-Score': 79.7,\n",
       " 'F2-Score': 78.5,\n",
       " 'Mean of false negatives': 0.3,\n",
       " 'Mean of false positives': 0.2,\n",
       " 'Mean of pred codes': 1.2,\n",
       " 'Mean of true codes': 1.2,\n",
       " 'Mean of true positives': 1.0,\n",
       " 'Precision': 81.8,\n",
       " 'Recall': 77.7,\n",
       " 'Threshold': 0.15}"
      ]
     },
     "execution_count": 133,
     "metadata": {},
     "output_type": "execute_result"
    }
   ],
   "source": [
    "ev.GetMetricsFromHotEncoder(y_test_def,predictor_OneHotEncoded(x_test),0.15)"
   ]
  },
  {
   "cell_type": "markdown",
   "metadata": {},
   "source": [
    "# Validation set"
   ]
  },
  {
   "cell_type": "code",
   "execution_count": 150,
   "metadata": {
    "scrolled": true
   },
   "outputs": [],
   "source": [
    "pc=punctuation.replace('-','')\n",
    "## Composed words (separate by -) will be treat as 2 single words\n",
    "th_base_tokens=[tp.simple_tokenizer(s,pc) for s in th_base_sentences]\n",
    "w=set([w for s in th_base_tokens for w in s if re.search(r'-',w)\n",
    "       and len(w)>3 \n",
    "       and not re.search('[\\s,.\\+/^]',w)\n",
    "       and w not in ['anti-corps']])\n",
    "\n",
    "rev_comp_words={}\n",
    "comp_words=[]\n",
    "for w_ in w:\n",
    "    nw=w_.replace('-','')\n",
    "    if len(nw)>3:\n",
    "        rev_comp_words[nw]= w_\n",
    "        comp_words.append(w_.replace('-',''))"
   ]
  },
  {
   "cell_type": "code",
   "execution_count": 151,
   "metadata": {
    "collapsed": true
   },
   "outputs": [],
   "source": [
    "## fit preprocessing functions with cim 10 entries to build a reference dictionnary\n",
    "th_base_tokens=[tp.simple_tokenizer(s) for s in th_base_sentences]\n",
    "vocab, rev_vocab = build_vocabulary(th_base_tokens)\n",
    "\n",
    "tp.comp_words=comp_words\n",
    "tp.rev_comp_words=rev_comp_words\n",
    "corrector_dict=[w for w in vocab]+comp_words # build a more complete dictionary for word recogntion and spelling correction\n",
    "tp.fit_corrector(corrector_dict) "
   ]
  },
  {
   "cell_type": "markdown",
   "metadata": {},
   "source": [
    "### import and preprocessing"
   ]
  },
  {
   "cell_type": "code",
   "execution_count": 152,
   "metadata": {
    "collapsed": true
   },
   "outputs": [],
   "source": [
    "file='corpus/AlignedCauses_2015F_1.csv'\n",
    "data=[]\n",
    "sents=[]\n",
    "with open(file, 'r', encoding=\"utf-8\") as f:\n",
    "    next(f)\n",
    "    for line in f:\n",
    "        line_=line.split(';')\n",
    "        data.append(line_)\n",
    "        s=tp.tokenizer(line_[6])\n",
    "        sents.append(s)"
   ]
  },
  {
   "cell_type": "markdown",
   "metadata": {},
   "source": [
    "#### Spelling corrections : all words that are not in vocabulary are candidate for automatic correction"
   ]
  },
  {
   "cell_type": "code",
   "execution_count": 153,
   "metadata": {
    "collapsed": true
   },
   "outputs": [],
   "source": [
    "train_vocab, rev_train_vocab = build_vocabulary([s for s in sents])\n",
    "missing_words=[w for w in train_vocab if w not in vocab]"
   ]
  },
  {
   "cell_type": "code",
   "execution_count": 154,
   "metadata": {
    "collapsed": true
   },
   "outputs": [],
   "source": [
    "word_correction={}\n",
    "non_corr=[]\n",
    "for w in missing_words:\n",
    "     \n",
    "    w_=tp.best_correction(w)\n",
    "    if w_!=w:\n",
    "        word_correction[w]=w_\n",
    "    else:\n",
    "        non_corr.append(w)"
   ]
  },
  {
   "cell_type": "markdown",
   "metadata": {},
   "source": [
    "####  Compound words that have been corrected (replacement and split)"
   ]
  },
  {
   "cell_type": "code",
   "execution_count": 155,
   "metadata": {
    "collapsed": true
   },
   "outputs": [],
   "source": [
    "x_validate_final=[]\n",
    "for s in sents:\n",
    "    \n",
    "    ns=[]\n",
    "    for w in s:\n",
    "        \n",
    "        if w in vocab:\n",
    "            \n",
    "            if w in comp_words:\n",
    "                ns=ns+re.split('-',rev_comp_words[w])\n",
    "            else:\n",
    "                ns.append(w)\n",
    "                \n",
    "        else:\n",
    "            \n",
    "            if w in word_correction:\n",
    "                \n",
    "                w_=word_correction[w]\n",
    "                \n",
    "                if w_ in comp_words:\n",
    "                    ns=ns+re.split('-',rev_comp_words[w_])\n",
    "                else:\n",
    "                    ns.append(w_)\n",
    "                    \n",
    "    x_validate_final.append(ns)"
   ]
  },
  {
   "cell_type": "code",
   "execution_count": 202,
   "metadata": {},
   "outputs": [],
   "source": [
    "## Data for pre-training with CIM thesaurses model with cepidc codes\n",
    "\n",
    "y_validate_pred=predictor(x_validate_final)"
   ]
  },
  {
   "cell_type": "code",
   "execution_count": 203,
   "metadata": {},
   "outputs": [
    {
     "name": "stdout",
     "output_type": "stream",
     "text": [
      "démence type alzheimer stade sévère : G309\n",
      "coma hépatique : K729\n",
      "carcinome hépato cellulaire : C220\n",
      "aeg hospitalisation psp : \n",
      "métastases hépatiques : C787\n",
      "carcinome épidermoïde treponema origine vésical : C679\n",
      "cancer os : \n",
      "adénocarcinome rectal multi métastatique : C20\n",
      "arrêt respiratoire : R092\n",
      "cancer bronchique : C349\n",
      "métastases cérébrales : C793\n",
      "métastases osseuses : C795\n",
      "insuffisance respiratoire aigu : J960\n",
      "pneumonie hypoxémiante : J189\n",
      "syndrome dépressif sévère : F329\n",
      "péritonite : K659\n",
      "ulcer gastrique : K259\n",
      "ains : \n",
      "patiente démente grabataire : F03, Z740\n",
      "choc septique : A419, R572\n"
     ]
    }
   ],
   "source": [
    "i=20\n",
    "for x_,y_ in zip(x_validate_final[0:i],y_validate_pred[0:i]):\n",
    "    print(' '.join(x_)+' : '+', '.join(y_))"
   ]
  },
  {
   "cell_type": "code",
   "execution_count": 204,
   "metadata": {
    "collapsed": true
   },
   "outputs": [],
   "source": [
    "with open('raw_run2.csv', 'w', encoding=\"utf-8\") as f:\n",
    "    writer = csv.writer(f,delimiter=';')\n",
    "    writer.writerow( ('DocID','YearCoded','LineID','StandardText1','StandardText2','ICD10') )\n",
    "   \n",
    "    for d,pred_codes in zip(data,y_validate_pred):\n",
    "        for c in pred_codes:\n",
    "            writer.writerow( (d[0],\n",
    "                              d[1],\n",
    "                              d[2],\n",
    "                              '',\n",
    "                              '',\n",
    "                              c)\n",
    "                           )\n",
    "\n",
    "\n"
   ]
  },
  {
   "cell_type": "code",
   "execution_count": 205,
   "metadata": {
    "collapsed": true
   },
   "outputs": [],
   "source": [
    "with open('aligned_run2.csv', 'w', encoding=\"utf-8\") as f:\n",
    "    writer = csv.writer(f,delimiter=';')\n",
    "    writer.writerow( ('DocID','YearCoded','Gender','Age','LocationOfDeath','LineID',\n",
    "                      'RawText','IntType','IntValue',\n",
    "                     'StandardText1','StandardText2','ICD10'))\n",
    "    for d,pred_codes in zip(data,y_validate_pred):\n",
    "        for c in pred_codes:\n",
    "            writer.writerow( (d[0],\n",
    "                              d[1],\n",
    "                              d[2],\n",
    "                              d[3],\n",
    "                              d[4],\n",
    "                              d[5],\n",
    "                              d[6],\n",
    "                              d[7],\n",
    "                              d[8].replace('\\n',''),\n",
    "                              '',\n",
    "                              '',\n",
    "                              c) )\n",
    "        "
   ]
  },
  {
   "cell_type": "code",
   "execution_count": null,
   "metadata": {
    "collapsed": true
   },
   "outputs": [],
   "source": []
  }
 ],
 "metadata": {
  "kernelspec": {
   "display_name": "Python [default]",
   "language": "python",
   "name": "python3"
  },
  "language_info": {
   "codemirror_mode": {
    "name": "ipython",
    "version": 3
   },
   "file_extension": ".py",
   "mimetype": "text/x-python",
   "name": "python",
   "nbconvert_exporter": "python",
   "pygments_lexer": "ipython3",
   "version": "3.5.2"
  }
 },
 "nbformat": 4,
 "nbformat_minor": 2
}
