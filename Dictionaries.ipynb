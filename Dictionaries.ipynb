{
 "cells": [
  {
   "cell_type": "markdown",
   "metadata": {},
   "source": [
    "## Dictionnaries\n",
    "\n",
    "Build a dictionnary from avaliable lexical resources:\n",
    "- ICD 10 classification (https://www.bfs.admin.ch/bfs/fr/home/statistiques/sante/nomenclatures/medkk/instruments-codage-medical.assetdetail.1180187.html)\n",
    "- ICD 10 index (Vol 2) (https://www.bfs.admin.ch/bfs/fr/home/statistiques/sante/nomenclatures/medkk/instruments-codage-medical.assetdetail.1180186.html)\n",
    "- Snomed CT French version (http://esante.gouv.fr/services/referentiels/referentiels-d-interoperabilite/snomed-35vf)\n",
    "- Orphanet (http://www.orphadata.org/cgi-bin/inc/ordo_orphanet.inc.php/)\n",
    "- CépiDC dictionnaries (https://sites.google.com/view/clef-ehealth-2018/task-1-multilingual-information-extraction-icd10-coding?authuser=0)"
   ]
  },
  {
   "cell_type": "code",
   "execution_count": 36,
   "metadata": {
    "collapsed": true
   },
   "outputs": [],
   "source": [
    "import matplotlib.pyplot as plt\n",
    "import pandas as pd\n",
    "import numpy as np\n",
    "import os\n",
    "import keras\n",
    "import re\n",
    "import csv"
   ]
  },
  {
   "cell_type": "code",
   "execution_count": 37,
   "metadata": {},
   "outputs": [
    {
     "name": "stdout",
     "output_type": "stream",
     "text": [
      "Total number of lines = 26972\n"
     ]
    }
   ],
   "source": [
    "###CIM\n",
    "sentences=[]\n",
    "codes=[]\n",
    "origin=[]\n",
    "\n",
    "with open('dictionaries/CIM10GM2016_CSV_S_FR_versionmétadonnée_codes_2016_12_01.csv', 'r', encoding=\"utf-8\") as f:\n",
    "        \n",
    "        next(f)\n",
    "        \n",
    "        for line in f:\n",
    "            line_=line.split(';')\n",
    "            if line_[1]=='T':\n",
    "                codes.append(line_[7])\n",
    "                sentences.append(line_[8])\n",
    "                codes.append(line_[7])\n",
    "                sentences.append(line_[9]+' '+line_[8])\n",
    "                origin.append('CIM')\n",
    "                \n",
    "icd=codes\n",
    "print('Total number of lines = '+str(len(sentences)))"
   ]
  },
  {
   "cell_type": "code",
   "execution_count": 39,
   "metadata": {},
   "outputs": [
    {
     "name": "stdout",
     "output_type": "stream",
     "text": [
      "Total number of lines = 40518\n"
     ]
    }
   ],
   "source": [
    "###CIM\n",
    "sentences=[]\n",
    "codes=[]\n",
    "origin=[]\n",
    "type_icd=[]\n",
    "auth_codes=[]\n",
    "with open('dictionaries/LIBCIM10MULTI.TXT', 'r', encoding=\"latin1\") as f:\n",
    "        \n",
    "        next(f)\n",
    "        \n",
    "        for line in f:\n",
    "            line_=line.split('|')\n",
    "            c=line_[0].replace(' ','')\n",
    "            codes.append(c)\n",
    "            type_=line_[1]\n",
    "            if type_!='3':\n",
    "                auth_codes.append(c)\n",
    "            sentences.append(line_[5].replace('\\n',''))\n",
    "            type_icd.append(type_)\n",
    "            origin.append('CIM')\n",
    "                \n",
    "icd_codes=codes\n",
    "print('Total number of lines = '+str(len(sentences)))"
   ]
  },
  {
   "cell_type": "code",
   "execution_count": 41,
   "metadata": {},
   "outputs": [
    {
     "name": "stdout",
     "output_type": "stream",
     "text": [
      "Total number of lines = 88419\n"
     ]
    }
   ],
   "source": [
    "### ICD index (vol 2)\n",
    "import csv\n",
    "nocodes=[]\n",
    "\n",
    "with open('dictionaries/CIM-10-GM AI FR A-Z CSV_2016_11_09_1810.csv', 'r', encoding=\"utf-8\") as f:\n",
    "    \n",
    "    reader = csv.reader(f)\n",
    "    \n",
    "    next(reader)\n",
    "    \n",
    "    for line_ in reader:\n",
    "        c=line_[1]\n",
    "        c=re.sub(r'[\\+\\.\\-†*!\\s]','',c)\n",
    "        c=re.split(',',c)\n",
    "\n",
    "        s=line_[2]\n",
    "        s=re.sub(r'[:]','',s)\n",
    "        s=s.split(' ¬ ')\n",
    "        if len(s)>1:\n",
    "            s=s[1]+s[0]\n",
    "        else:\n",
    "            s=s[0]\n",
    "        c2=[]\n",
    "        for c_ in c:\n",
    "            if c_ not in auth_codes:\n",
    "                if c_[:-1] in auth_codes:\n",
    "                    c2.append(c_[:-1])            \n",
    "                else:\n",
    "                    nocodes.append(c_)\n",
    "            else:\n",
    "                c2.append(c_)\n",
    "        if len(c2)>0:\n",
    "            codes.append(','.join(c2))\n",
    "            sentences.append(s)\n",
    "            origin.append('index ICD')\n",
    "            \n",
    "print('Total number of lines = '+str(len(sentences)))"
   ]
  },
  {
   "cell_type": "code",
   "execution_count": 43,
   "metadata": {},
   "outputs": [
    {
     "name": "stdout",
     "output_type": "stream",
     "text": [
      "Total number of lines= 193903\n",
      "Number of rejected codes =41857\n"
     ]
    }
   ],
   "source": [
    "###CépiDC dictionary\n",
    "nocodes=[]\n",
    "\n",
    "with open('dictionaries/Dictionnaire2015.csv', 'r', encoding=\"utf-8\") as f:\n",
    "    next(f)\n",
    "    for line in f:\n",
    "\n",
    "        line_=line.split(';')\n",
    "        c=line_[1]\n",
    "\n",
    "        if c in icd:\n",
    "            sentences.append(line_[0])\n",
    "            codes.append(c)\n",
    "            origin.append('CepiDC')\n",
    "        else:       \n",
    "            nocodes.append(c)\n",
    "\n",
    "print('Total number of lines= '+str(len(sentences)))\n",
    "print('Number of rejected codes ='+str(len(nocodes)))"
   ]
  },
  {
   "cell_type": "code",
   "execution_count": 44,
   "metadata": {},
   "outputs": [
    {
     "name": "stdout",
     "output_type": "stream",
     "text": [
      "Total number of lines= 195056\n",
      "Number of rejected codes =37708\n"
     ]
    }
   ],
   "source": [
    "###Snowmed\n",
    "\n",
    "nocodes=[]\n",
    "with open('dictionaries/DIAG_SNOMED_3.5_VF.csv', 'r', encoding=\"utf-8\") as f:\n",
    "    next(f)\n",
    "    for line in f:\n",
    "        line_=line.split(';')\n",
    "        c=line_[7]\n",
    "\n",
    "        if(len(c)>2):\n",
    "            \n",
    "            if c in icd:\n",
    "                codes.append(c)\n",
    "                origin.append('Snomed')\n",
    "                sentences.append(line_[4])\n",
    "            else:\n",
    "                nocodes.append(c)\n",
    "\n",
    "print('Total number of lines= '+str(len(sentences)))\n",
    "print('Number of rejected codes ='+str(len(nocodes)))"
   ]
  },
  {
   "cell_type": "code",
   "execution_count": 45,
   "metadata": {
    "collapsed": true
   },
   "outputs": [],
   "source": [
    "###Orphanet\n",
    "import json\n",
    "data = json.load(open('dictionaries/fr_product1.json'))\n",
    "data=data['JDBOR'][0]['DisorderList'][0]['Disorder']"
   ]
  },
  {
   "cell_type": "code",
   "execution_count": 46,
   "metadata": {
    "collapsed": true
   },
   "outputs": [],
   "source": [
    "sentences_={}\n",
    "codes_={}\n",
    "\n",
    "for num in range(len(data)):\n",
    "    if 'ExternalReferenceList' not in data[num] or 'Name' not in data[num]:\n",
    "        continue\n",
    "    if 'ExternalReference' not in data[num]['ExternalReferenceList'][0]:\n",
    "        continue\n",
    "\n",
    "    for i in  data[num]['ExternalReferenceList'][0]['ExternalReference']:\n",
    "        c=''\n",
    "        s=''\n",
    "        if i['Source']=='ICD-10':\n",
    "            c=i['Reference']\n",
    "\n",
    "           # print(str(num)+'-'+cod_+':'+str(len(cod_)))\n",
    "           # if len(cod_)>6 or len(cod_)<1:\n",
    "           #     valid=False\n",
    "           # else:\n",
    "           #    if nc==0:\n",
    "           #         codes.append(cod_) \n",
    "           #         nc=nc+1\n",
    "            \n",
    "    for i in data[num]['Name']:\n",
    "            if i['lang']=='fr':\n",
    "                s=i['label']\n",
    "\n",
    "\n",
    "    sentences_[num]=s\n",
    "    codes_[num]=c\n",
    "\n"
   ]
  },
  {
   "cell_type": "code",
   "execution_count": 47,
   "metadata": {},
   "outputs": [
    {
     "name": "stdout",
     "output_type": "stream",
     "text": [
      "Total number of lines= 195200\n",
      "Number of rejected codes =44485\n"
     ]
    }
   ],
   "source": [
    "for c,s in [[c,sentences_[k]] for k,c in codes_.items() if len(c)<6 and len(c)>0]:\n",
    "\n",
    "    if c in icd:\n",
    "        codes.append(c)\n",
    "    \n",
    "        s=s.replace(';',',')\n",
    "        sentences.append(s)\n",
    "        origin.append('Orphanet')\n",
    "    else:\n",
    "        nocodes.append(line_[7])\n",
    "        \n",
    "print('Total number of lines= '+str(len(sentences)))\n",
    "print('Number of rejected codes ='+str(len(nocodes)))"
   ]
  },
  {
   "cell_type": "code",
   "execution_count": 48,
   "metadata": {},
   "outputs": [
    {
     "name": "stdout",
     "output_type": "stream",
     "text": [
      "195200\n"
     ]
    }
   ],
   "source": [
    "print(len(sentences))"
   ]
  },
  {
   "cell_type": "markdown",
   "metadata": {},
   "source": [
    "#### Dealing with CIM index entries\n",
    "\n",
    "in the index of the CIM some entries contain synonyms that are placed between braket. We build new entries with each individual synonym.\n"
   ]
  },
  {
   "cell_type": "code",
   "execution_count": 49,
   "metadata": {
    "collapsed": true
   },
   "outputs": [],
   "source": [
    "from FeatureExtractor import *\n",
    "fe=FeatureExtractor()"
   ]
  },
  {
   "cell_type": "code",
   "execution_count": 50,
   "metadata": {},
   "outputs": [
    {
     "name": "stdout",
     "output_type": "stream",
     "text": [
      "Total number of lines= 195200\n"
     ]
    }
   ],
   "source": [
    "prep_sentences=[]\n",
    "prep_codes=[]\n",
    "prep_origin=[]\n",
    "for s,c,o in zip(sentences, codes,origin):\n",
    "    c=re.sub(r'[\\+\\.\\-†*!\\s]','',c)\n",
    "   \n",
    "    s_ = tp.barket_removal(s)\n",
    "\n",
    "\n",
    "    s__=[tp.square_barket_removal(s__) for s__ in s_]\n",
    "    for final_s in s__:\n",
    "        for final_s_ in final_s:\n",
    "            final_s_=final_s_.replace('\"','')\n",
    "            final_s_=re.sub(r'^ ','',final_s_)\n",
    "            prep_sentences.append(final_s_)\n",
    "            prep_codes.append(c)\n",
    "            prep_origin.append(o)\n",
    "            \n",
    "print('Total number of lines= '+str(len(sentences)))"
   ]
  },
  {
   "cell_type": "code",
   "execution_count": 51,
   "metadata": {
    "collapsed": true
   },
   "outputs": [],
   "source": [
    "with open('dictionaries/clef2018_thesaurus.csv', 'w') as f:\n",
    "    writer = csv.writer(f,delimiter=';')\n",
    "    for s,c,o in zip(prep_sentences,prep_codes,prep_origin):\n",
    "        c=re.sub(r'[\\+\\.\\-†*!\\s]','',c)\n",
    "        s=s.replace('  ',' ')\n",
    "        s=s.replace('   ',' ')\n",
    "        #if not re.search(r'[^A-Z0-9+*]',c):\n",
    "        writer.writerow( (s,c,o) )\n",
    "            \n",
    "                \n",
    "        "
   ]
  }
 ],
 "metadata": {
  "kernelspec": {
   "display_name": "Python [default]",
   "language": "python",
   "name": "python3"
  },
  "language_info": {
   "codemirror_mode": {
    "name": "ipython",
    "version": 3
   },
   "file_extension": ".py",
   "mimetype": "text/x-python",
   "name": "python",
   "nbconvert_exporter": "python",
   "pygments_lexer": "ipython3",
   "version": "3.5.2"
  }
 },
 "nbformat": 4,
 "nbformat_minor": 2
}
